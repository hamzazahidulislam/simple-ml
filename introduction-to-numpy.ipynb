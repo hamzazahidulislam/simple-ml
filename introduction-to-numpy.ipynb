{
 "cells": [
  {
   "cell_type": "code",
   "execution_count": 1,
   "id": "780ee75f-a4d2-4f41-abf5-84820db38196",
   "metadata": {},
   "outputs": [],
   "source": [
    "import numpy as np"
   ]
  },
  {
   "cell_type": "markdown",
   "id": "bc9b4c7a-7f96-4d18-a9fe-461cc5d76de1",
   "metadata": {},
   "source": [
    "## DataTypes & Attributes"
   ]
  },
  {
   "cell_type": "code",
   "execution_count": 2,
   "id": "1b782f7d-d4be-4a27-b1f0-a41e7a5d70e3",
   "metadata": {},
   "outputs": [
    {
     "data": {
      "text/plain": [
       "array([1, 2, 3])"
      ]
     },
     "execution_count": 2,
     "metadata": {},
     "output_type": "execute_result"
    }
   ],
   "source": [
    "#NumPy's main datatype is ndarray\n",
    "a1 = np.array([1,2,3])\n",
    "a1"
   ]
  },
  {
   "cell_type": "code",
   "execution_count": 3,
   "id": "4bbbabc3-bc61-421a-add1-bb64182e2aa3",
   "metadata": {},
   "outputs": [
    {
     "data": {
      "text/plain": [
       "numpy.ndarray"
      ]
     },
     "execution_count": 3,
     "metadata": {},
     "output_type": "execute_result"
    }
   ],
   "source": [
    "type(a1)"
   ]
  },
  {
   "cell_type": "code",
   "execution_count": 4,
   "id": "99257acf-46d2-438f-befd-b8cfff7c3a85",
   "metadata": {},
   "outputs": [],
   "source": [
    "a2 = np.array([\n",
    "    [1, 2, 3],\n",
    "    [4, 5, 6]\n",
    "])\n",
    "\n",
    "a3 =  np.array([\n",
    "    [\n",
    "        [1, 2, 3],\n",
    "        [4, 5, 6],\n",
    "        [7, 8, 9]\n",
    "        \n",
    "    ],\n",
    "    [\n",
    "        [10, 11, 12],\n",
    "        [13, 14, 15],\n",
    "        [16, 17, 18]\n",
    "    ] \n",
    "])"
   ]
  },
  {
   "cell_type": "code",
   "execution_count": 5,
   "id": "633f0e60-647a-459b-a64d-9778abb4747f",
   "metadata": {},
   "outputs": [
    {
     "data": {
      "text/plain": [
       "array([[1, 2, 3],\n",
       "       [4, 5, 6]])"
      ]
     },
     "execution_count": 5,
     "metadata": {},
     "output_type": "execute_result"
    }
   ],
   "source": [
    "a2"
   ]
  },
  {
   "cell_type": "code",
   "execution_count": 6,
   "id": "71058942-a862-48bc-9bda-17569ec234cf",
   "metadata": {},
   "outputs": [
    {
     "data": {
      "text/plain": [
       "array([[[ 1,  2,  3],\n",
       "        [ 4,  5,  6],\n",
       "        [ 7,  8,  9]],\n",
       "\n",
       "       [[10, 11, 12],\n",
       "        [13, 14, 15],\n",
       "        [16, 17, 18]]])"
      ]
     },
     "execution_count": 6,
     "metadata": {},
     "output_type": "execute_result"
    }
   ],
   "source": [
    "a3"
   ]
  },
  {
   "cell_type": "code",
   "execution_count": 7,
   "id": "54fd251b-03a5-4fcc-81d6-79ab4da9092d",
   "metadata": {},
   "outputs": [
    {
     "data": {
      "text/plain": [
       "(3,)"
      ]
     },
     "execution_count": 7,
     "metadata": {},
     "output_type": "execute_result"
    }
   ],
   "source": [
    "a1.shape"
   ]
  },
  {
   "cell_type": "code",
   "execution_count": 8,
   "id": "690a344d-b7d4-479a-9b2e-4314984b6b74",
   "metadata": {},
   "outputs": [
    {
     "data": {
      "text/plain": [
       "(2, 3)"
      ]
     },
     "execution_count": 8,
     "metadata": {},
     "output_type": "execute_result"
    }
   ],
   "source": [
    "a2.shape"
   ]
  },
  {
   "cell_type": "code",
   "execution_count": 9,
   "id": "8ee94cd7-5be1-4add-ba35-43396bd0cc8b",
   "metadata": {},
   "outputs": [
    {
     "data": {
      "text/plain": [
       "(2, 3, 3)"
      ]
     },
     "execution_count": 9,
     "metadata": {},
     "output_type": "execute_result"
    }
   ],
   "source": [
    "a3.shape"
   ]
  },
  {
   "cell_type": "code",
   "execution_count": 10,
   "id": "3ba70bc1-010e-4bd4-b34e-0ba9077583bb",
   "metadata": {},
   "outputs": [
    {
     "data": {
      "text/plain": [
       "array([1, 2, 3])"
      ]
     },
     "execution_count": 10,
     "metadata": {},
     "output_type": "execute_result"
    }
   ],
   "source": [
    "a1"
   ]
  },
  {
   "cell_type": "code",
   "execution_count": 11,
   "id": "1534ec75-1c99-4b8c-bdd6-e5102acd953f",
   "metadata": {},
   "outputs": [
    {
     "data": {
      "text/plain": [
       "array([[[ 1,  2,  3],\n",
       "        [ 4,  5,  6],\n",
       "        [ 7,  8,  9]],\n",
       "\n",
       "       [[10, 11, 12],\n",
       "        [13, 14, 15],\n",
       "        [16, 17, 18]]])"
      ]
     },
     "execution_count": 11,
     "metadata": {},
     "output_type": "execute_result"
    }
   ],
   "source": [
    "a3"
   ]
  },
  {
   "cell_type": "code",
   "execution_count": 12,
   "id": "94b2653e-5c34-4d67-888a-8ee876d95994",
   "metadata": {},
   "outputs": [
    {
     "data": {
      "text/plain": [
       "array([[1, 2, 3],\n",
       "       [4, 5, 6]])"
      ]
     },
     "execution_count": 12,
     "metadata": {},
     "output_type": "execute_result"
    }
   ],
   "source": [
    "a2"
   ]
  },
  {
   "cell_type": "code",
   "execution_count": 13,
   "id": "aae81352-c241-4d0d-b658-4830994ae766",
   "metadata": {},
   "outputs": [
    {
     "data": {
      "text/plain": [
       "(1, 2, 3)"
      ]
     },
     "execution_count": 13,
     "metadata": {},
     "output_type": "execute_result"
    }
   ],
   "source": [
    "a1.ndim, a2.ndim, a3.ndim"
   ]
  },
  {
   "cell_type": "code",
   "execution_count": 14,
   "id": "9a70e434-8b89-4d4d-b936-aca780f6533d",
   "metadata": {},
   "outputs": [
    {
     "data": {
      "text/plain": [
       "(dtype('int64'), dtype('int64'), dtype('int64'))"
      ]
     },
     "execution_count": 14,
     "metadata": {},
     "output_type": "execute_result"
    }
   ],
   "source": [
    "a1.dtype, a2.dtype, a3.dtype"
   ]
  },
  {
   "cell_type": "code",
   "execution_count": 15,
   "id": "b8cdb529-a68d-429b-89ef-3da3fe65d50f",
   "metadata": {},
   "outputs": [
    {
     "data": {
      "text/plain": [
       "(3, 6, 18)"
      ]
     },
     "execution_count": 15,
     "metadata": {},
     "output_type": "execute_result"
    }
   ],
   "source": [
    "a1.size, a2.size, a3.size"
   ]
  },
  {
   "cell_type": "code",
   "execution_count": 16,
   "id": "7330f199-8db5-4b80-a2ad-9a8c8e0d3feb",
   "metadata": {},
   "outputs": [
    {
     "data": {
      "text/plain": [
       "array([[1, 2, 3],\n",
       "       [4, 5, 6]])"
      ]
     },
     "execution_count": 16,
     "metadata": {},
     "output_type": "execute_result"
    }
   ],
   "source": [
    "a2"
   ]
  },
  {
   "cell_type": "code",
   "execution_count": 17,
   "id": "4aeb4649-6ac7-449c-a366-f98d04fbc2b3",
   "metadata": {},
   "outputs": [
    {
     "data": {
      "text/plain": [
       "(numpy.ndarray, numpy.ndarray, numpy.ndarray)"
      ]
     },
     "execution_count": 17,
     "metadata": {},
     "output_type": "execute_result"
    }
   ],
   "source": [
    "type(a1),type(a2),type(a3)"
   ]
  },
  {
   "cell_type": "code",
   "execution_count": 18,
   "id": "96df8ba1-921e-4e87-bc62-d6b13e1bedce",
   "metadata": {},
   "outputs": [
    {
     "data": {
      "text/html": [
       "<div>\n",
       "<style scoped>\n",
       "    .dataframe tbody tr th:only-of-type {\n",
       "        vertical-align: middle;\n",
       "    }\n",
       "\n",
       "    .dataframe tbody tr th {\n",
       "        vertical-align: top;\n",
       "    }\n",
       "\n",
       "    .dataframe thead th {\n",
       "        text-align: right;\n",
       "    }\n",
       "</style>\n",
       "<table border=\"1\" class=\"dataframe\">\n",
       "  <thead>\n",
       "    <tr style=\"text-align: right;\">\n",
       "      <th></th>\n",
       "      <th>0</th>\n",
       "      <th>1</th>\n",
       "      <th>2</th>\n",
       "    </tr>\n",
       "  </thead>\n",
       "  <tbody>\n",
       "    <tr>\n",
       "      <th>0</th>\n",
       "      <td>1</td>\n",
       "      <td>2</td>\n",
       "      <td>3</td>\n",
       "    </tr>\n",
       "    <tr>\n",
       "      <th>1</th>\n",
       "      <td>4</td>\n",
       "      <td>5</td>\n",
       "      <td>6</td>\n",
       "    </tr>\n",
       "  </tbody>\n",
       "</table>\n",
       "</div>"
      ],
      "text/plain": [
       "   0  1  2\n",
       "0  1  2  3\n",
       "1  4  5  6"
      ]
     },
     "execution_count": 18,
     "metadata": {},
     "output_type": "execute_result"
    }
   ],
   "source": [
    "# Create a Dataframe from a NumPy array\n",
    "import pandas as pd\n",
    "df = pd.DataFrame(a2)\n",
    "df"
   ]
  },
  {
   "cell_type": "markdown",
   "id": "4fde47d8-d421-4f05-bd12-d5888d409a84",
   "metadata": {},
   "source": [
    "## 2. Creating arrays"
   ]
  },
  {
   "cell_type": "code",
   "execution_count": 19,
   "id": "93a8cbcd-31ab-42dc-8c6c-8c2d95090227",
   "metadata": {},
   "outputs": [
    {
     "data": {
      "text/plain": [
       "array([1, 2, 3])"
      ]
     },
     "execution_count": 19,
     "metadata": {},
     "output_type": "execute_result"
    }
   ],
   "source": [
    "sample_array = np.array([1,2,3])\n",
    "sample_array"
   ]
  },
  {
   "cell_type": "code",
   "execution_count": 20,
   "id": "897a0276-a5b1-4151-8f12-943bd6948761",
   "metadata": {},
   "outputs": [
    {
     "data": {
      "text/plain": [
       "dtype('int64')"
      ]
     },
     "execution_count": 20,
     "metadata": {},
     "output_type": "execute_result"
    }
   ],
   "source": [
    "sample_array.dtype"
   ]
  },
  {
   "cell_type": "code",
   "execution_count": 21,
   "id": "de27f54b-51da-480a-9a7b-d27c878138d4",
   "metadata": {},
   "outputs": [
    {
     "data": {
      "text/plain": [
       "array([[[1., 1., 1.],\n",
       "        [1., 1., 1.],\n",
       "        [1., 1., 1.]],\n",
       "\n",
       "       [[1., 1., 1.],\n",
       "        [1., 1., 1.],\n",
       "        [1., 1., 1.]]])"
      ]
     },
     "execution_count": 21,
     "metadata": {},
     "output_type": "execute_result"
    }
   ],
   "source": [
    "ones = np.ones((2,3,3))\n",
    "ones"
   ]
  },
  {
   "cell_type": "code",
   "execution_count": 22,
   "id": "fcf81d8a-759c-4180-b2c7-70069135fc81",
   "metadata": {},
   "outputs": [
    {
     "data": {
      "text/plain": [
       "dtype('float64')"
      ]
     },
     "execution_count": 22,
     "metadata": {},
     "output_type": "execute_result"
    }
   ],
   "source": [
    "ones.dtype"
   ]
  },
  {
   "cell_type": "code",
   "execution_count": 23,
   "id": "c89e5536-1f3c-4b53-8f9d-4cf3f0484368",
   "metadata": {},
   "outputs": [
    {
     "data": {
      "text/plain": [
       "numpy.ndarray"
      ]
     },
     "execution_count": 23,
     "metadata": {},
     "output_type": "execute_result"
    }
   ],
   "source": [
    "type(ones)"
   ]
  },
  {
   "cell_type": "code",
   "execution_count": 24,
   "id": "c9f22fbe-b08b-41c0-895c-cc587e4f869f",
   "metadata": {},
   "outputs": [
    {
     "data": {
      "text/plain": [
       "array([[[0., 0., 0.],\n",
       "        [0., 0., 0.],\n",
       "        [0., 0., 0.]],\n",
       "\n",
       "       [[0., 0., 0.],\n",
       "        [0., 0., 0.],\n",
       "        [0., 0., 0.]]])"
      ]
     },
     "execution_count": 24,
     "metadata": {},
     "output_type": "execute_result"
    }
   ],
   "source": [
    "zeros = np.zeros((2,3,3))\n",
    "zeros"
   ]
  },
  {
   "cell_type": "code",
   "execution_count": 25,
   "id": "ff1313a4-df29-4fd9-8f58-e8606d0f7979",
   "metadata": {},
   "outputs": [
    {
     "data": {
      "text/plain": [
       "array([0, 2, 4, 6, 8])"
      ]
     },
     "execution_count": 25,
     "metadata": {},
     "output_type": "execute_result"
    }
   ],
   "source": [
    "range_array = np.arange(0, 10, 2)\n",
    "range_array"
   ]
  },
  {
   "cell_type": "code",
   "execution_count": 26,
   "id": "21b0b13c-8813-404c-9243-591a6b7f508c",
   "metadata": {},
   "outputs": [
    {
     "data": {
      "text/plain": [
       "array([[2, 6, 7, 7, 2],\n",
       "       [9, 7, 2, 4, 6],\n",
       "       [5, 1, 8, 6, 9]])"
      ]
     },
     "execution_count": 26,
     "metadata": {},
     "output_type": "execute_result"
    }
   ],
   "source": [
    "random_array = np.random.randint(0, 10 , size= (3,5))\n",
    "random_array"
   ]
  },
  {
   "cell_type": "code",
   "execution_count": 27,
   "id": "dbb974cf-bc08-42ca-947b-9a11dbb58f86",
   "metadata": {},
   "outputs": [
    {
     "data": {
      "text/plain": [
       "15"
      ]
     },
     "execution_count": 27,
     "metadata": {},
     "output_type": "execute_result"
    }
   ],
   "source": [
    "random_array.size"
   ]
  },
  {
   "cell_type": "code",
   "execution_count": 28,
   "id": "0539285f-8573-4271-a2cc-5f5e43fe9fe0",
   "metadata": {},
   "outputs": [
    {
     "data": {
      "text/plain": [
       "(3, 5)"
      ]
     },
     "execution_count": 28,
     "metadata": {},
     "output_type": "execute_result"
    }
   ],
   "source": [
    "random_array.shape"
   ]
  },
  {
   "cell_type": "code",
   "execution_count": 29,
   "id": "6f1521db-6e64-415b-8136-d3376fe8302b",
   "metadata": {},
   "outputs": [
    {
     "data": {
      "text/plain": [
       "array([[0.81459636, 0.59331428, 0.16734524],\n",
       "       [0.18767153, 0.25892835, 0.98669712],\n",
       "       [0.23300616, 0.12343643, 0.91623996],\n",
       "       [0.99655006, 0.68591767, 0.48573125],\n",
       "       [0.92716617, 0.01487571, 0.13309791]])"
      ]
     },
     "execution_count": 29,
     "metadata": {},
     "output_type": "execute_result"
    }
   ],
   "source": [
    "random_array_2 = np.random.random((5,3))\n",
    "random_array_2"
   ]
  },
  {
   "cell_type": "code",
   "execution_count": 30,
   "id": "2936a3ce-8169-432c-8996-e9b478e55c1c",
   "metadata": {},
   "outputs": [
    {
     "data": {
      "text/plain": [
       "(5, 3)"
      ]
     },
     "execution_count": 30,
     "metadata": {},
     "output_type": "execute_result"
    }
   ],
   "source": [
    "random_array_2.shape"
   ]
  },
  {
   "cell_type": "code",
   "execution_count": 31,
   "id": "c0f3faef-eca1-400a-9a69-e1f749d5b6cc",
   "metadata": {},
   "outputs": [
    {
     "data": {
      "text/plain": [
       "array([[0.67966259, 0.59613994, 0.83594407],\n",
       "       [0.3130644 , 0.76942825, 0.36404387],\n",
       "       [0.39489192, 0.10762265, 0.69899309],\n",
       "       [0.24448565, 0.8129901 , 0.65405603],\n",
       "       [0.5274647 , 0.79122036, 0.1608792 ]])"
      ]
     },
     "execution_count": 31,
     "metadata": {},
     "output_type": "execute_result"
    }
   ],
   "source": [
    "random_array_3 = np.random.rand(5,3)\n",
    "random_array_3"
   ]
  },
  {
   "cell_type": "code",
   "execution_count": 32,
   "id": "fad0e842-bb0e-4a7e-86a0-1da9fa408790",
   "metadata": {},
   "outputs": [
    {
     "data": {
      "text/plain": [
       "array([[6, 3, 7],\n",
       "       [4, 6, 9],\n",
       "       [2, 6, 7],\n",
       "       [4, 3, 7],\n",
       "       [7, 2, 5]])"
      ]
     },
     "execution_count": 32,
     "metadata": {},
     "output_type": "execute_result"
    }
   ],
   "source": [
    "# Pseudo-random numbers\n",
    "np.random.seed(seed=42)\n",
    "random_array_4 = np.random.randint(10, size= (5,3))\n",
    "random_array_4"
   ]
  },
  {
   "cell_type": "code",
   "execution_count": 33,
   "id": "2cbad372-49c6-4887-8aa3-c17aefa9d230",
   "metadata": {},
   "outputs": [
    {
     "data": {
      "text/plain": [
       "(5, 3)"
      ]
     },
     "execution_count": 33,
     "metadata": {},
     "output_type": "execute_result"
    }
   ],
   "source": [
    "random_array_4.shape"
   ]
  },
  {
   "cell_type": "code",
   "execution_count": 34,
   "id": "5cfbbc22-e3fa-4e23-8c7b-ab9a0a822039",
   "metadata": {},
   "outputs": [
    {
     "data": {
      "text/plain": [
       "array([[0.07630829, 0.77991879, 0.43840923],\n",
       "       [0.72346518, 0.97798951, 0.53849587],\n",
       "       [0.50112046, 0.07205113, 0.26843898],\n",
       "       [0.4998825 , 0.67923   , 0.80373904],\n",
       "       [0.38094113, 0.06593635, 0.2881456 ]])"
      ]
     },
     "execution_count": 34,
     "metadata": {},
     "output_type": "execute_result"
    }
   ],
   "source": [
    "np.random.seed(7)\n",
    "random_array_5 = np.random.random((5,3))\n",
    "random_array_5"
   ]
  },
  {
   "cell_type": "code",
   "execution_count": 35,
   "id": "42622025-fb36-409b-b866-4e2a4e7ca12f",
   "metadata": {},
   "outputs": [
    {
     "data": {
      "text/plain": [
       "array([[0.90959353, 0.21338535, 0.45212396],\n",
       "       [0.93120602, 0.02489923, 0.60054892],\n",
       "       [0.9501295 , 0.23030288, 0.54848992],\n",
       "       [0.90912837, 0.13316945, 0.52341258],\n",
       "       [0.75040986, 0.66901324, 0.46775286]])"
      ]
     },
     "execution_count": 35,
     "metadata": {},
     "output_type": "execute_result"
    }
   ],
   "source": [
    "# np.random.seed(7)\n",
    "random_array_5 = np.random.random((5,3))\n",
    "random_array_5"
   ]
  },
  {
   "cell_type": "markdown",
   "id": "1db20fba-4340-426f-a46e-25d7f11c74c6",
   "metadata": {},
   "source": [
    "## 3. Viewing arrays and matrices"
   ]
  },
  {
   "cell_type": "code",
   "execution_count": 36,
   "id": "a57c3a7d-236e-4e5b-a0dd-80648d8de442",
   "metadata": {},
   "outputs": [
    {
     "data": {
      "text/plain": [
       "array([2, 3, 4, 5, 6, 7, 9])"
      ]
     },
     "execution_count": 36,
     "metadata": {},
     "output_type": "execute_result"
    }
   ],
   "source": [
    "np.unique(random_array_4)"
   ]
  },
  {
   "cell_type": "code",
   "execution_count": 37,
   "id": "1669cb6c-af47-42a1-a0fa-1eeff034dc0c",
   "metadata": {},
   "outputs": [
    {
     "data": {
      "text/plain": [
       "array([1, 2, 3])"
      ]
     },
     "execution_count": 37,
     "metadata": {},
     "output_type": "execute_result"
    }
   ],
   "source": [
    "a1"
   ]
  },
  {
   "cell_type": "code",
   "execution_count": 38,
   "id": "73723f58-5bac-40b7-ba03-67cd967226d5",
   "metadata": {},
   "outputs": [
    {
     "data": {
      "text/plain": [
       "array([[1, 2, 3],\n",
       "       [4, 5, 6]])"
      ]
     },
     "execution_count": 38,
     "metadata": {},
     "output_type": "execute_result"
    }
   ],
   "source": [
    "a2"
   ]
  },
  {
   "cell_type": "code",
   "execution_count": 39,
   "id": "bae1c168-a15b-47bb-976b-8563a87c5f3f",
   "metadata": {},
   "outputs": [
    {
     "data": {
      "text/plain": [
       "array([[[ 1,  2,  3],\n",
       "        [ 4,  5,  6],\n",
       "        [ 7,  8,  9]],\n",
       "\n",
       "       [[10, 11, 12],\n",
       "        [13, 14, 15],\n",
       "        [16, 17, 18]]])"
      ]
     },
     "execution_count": 39,
     "metadata": {},
     "output_type": "execute_result"
    }
   ],
   "source": [
    "a3"
   ]
  },
  {
   "cell_type": "code",
   "execution_count": 40,
   "id": "3a324a58-678b-4a8b-b15d-c8dfe4b17a05",
   "metadata": {},
   "outputs": [
    {
     "data": {
      "text/plain": [
       "np.int64(1)"
      ]
     },
     "execution_count": 40,
     "metadata": {},
     "output_type": "execute_result"
    }
   ],
   "source": [
    "a1[0]"
   ]
  },
  {
   "cell_type": "code",
   "execution_count": 41,
   "id": "5307a111-15aa-4ae7-86b7-78d7168b926f",
   "metadata": {},
   "outputs": [
    {
     "data": {
      "text/plain": [
       "(2, 3)"
      ]
     },
     "execution_count": 41,
     "metadata": {},
     "output_type": "execute_result"
    }
   ],
   "source": [
    "a2.shape"
   ]
  },
  {
   "cell_type": "code",
   "execution_count": 42,
   "id": "a8d85e2f-2e7b-4362-9d4f-5e35a87c1f06",
   "metadata": {},
   "outputs": [
    {
     "data": {
      "text/plain": [
       "array([4, 5, 6])"
      ]
     },
     "execution_count": 42,
     "metadata": {},
     "output_type": "execute_result"
    }
   ],
   "source": [
    "a2[1]"
   ]
  },
  {
   "cell_type": "code",
   "execution_count": 43,
   "id": "b0adabb1-cc97-4d47-84b1-26424c6c9a39",
   "metadata": {},
   "outputs": [
    {
     "data": {
      "text/plain": [
       "(2, 3, 3)"
      ]
     },
     "execution_count": 43,
     "metadata": {},
     "output_type": "execute_result"
    }
   ],
   "source": [
    "a3.shape"
   ]
  },
  {
   "cell_type": "code",
   "execution_count": 44,
   "id": "2dd2c87b-36c5-4ca8-9931-ddc7419644bd",
   "metadata": {},
   "outputs": [
    {
     "data": {
      "text/plain": [
       "array([[1, 2, 3],\n",
       "       [4, 5, 6],\n",
       "       [7, 8, 9]])"
      ]
     },
     "execution_count": 44,
     "metadata": {},
     "output_type": "execute_result"
    }
   ],
   "source": [
    "a3[0]"
   ]
  },
  {
   "cell_type": "code",
   "execution_count": 45,
   "id": "aee7acfa-1b73-4506-8198-8d7e71c24709",
   "metadata": {},
   "outputs": [
    {
     "data": {
      "text/plain": [
       "array([[[ 1,  2,  3],\n",
       "        [ 4,  5,  6],\n",
       "        [ 7,  8,  9]],\n",
       "\n",
       "       [[10, 11, 12],\n",
       "        [13, 14, 15],\n",
       "        [16, 17, 18]]])"
      ]
     },
     "execution_count": 45,
     "metadata": {},
     "output_type": "execute_result"
    }
   ],
   "source": [
    "a3"
   ]
  },
  {
   "cell_type": "code",
   "execution_count": 46,
   "id": "84b3c293-2439-4411-bc0b-6b544b171c55",
   "metadata": {},
   "outputs": [
    {
     "data": {
      "text/plain": [
       "array([[1, 2, 3],\n",
       "       [4, 5, 6]])"
      ]
     },
     "execution_count": 46,
     "metadata": {},
     "output_type": "execute_result"
    }
   ],
   "source": [
    "a2"
   ]
  },
  {
   "cell_type": "code",
   "execution_count": 47,
   "id": "23b01359-c13a-49f6-951c-649ef8bf1077",
   "metadata": {},
   "outputs": [
    {
     "data": {
      "text/plain": [
       "array([4, 5, 6])"
      ]
     },
     "execution_count": 47,
     "metadata": {},
     "output_type": "execute_result"
    }
   ],
   "source": [
    "a2[1]"
   ]
  },
  {
   "cell_type": "code",
   "execution_count": 48,
   "id": "1192e823-1359-44bc-bc77-56d159839f3f",
   "metadata": {},
   "outputs": [
    {
     "data": {
      "text/plain": [
       "array([[[ 1,  2,  3],\n",
       "        [ 4,  5,  6],\n",
       "        [ 7,  8,  9]],\n",
       "\n",
       "       [[10, 11, 12],\n",
       "        [13, 14, 15],\n",
       "        [16, 17, 18]]])"
      ]
     },
     "execution_count": 48,
     "metadata": {},
     "output_type": "execute_result"
    }
   ],
   "source": [
    "a3"
   ]
  },
  {
   "cell_type": "code",
   "execution_count": 49,
   "id": "6bc2c63a-4f04-43a5-a1bf-c194b0d2a899",
   "metadata": {},
   "outputs": [
    {
     "data": {
      "text/plain": [
       "array([[[ 1,  2],\n",
       "        [ 4,  5]],\n",
       "\n",
       "       [[10, 11],\n",
       "        [13, 14]]])"
      ]
     },
     "execution_count": 49,
     "metadata": {},
     "output_type": "execute_result"
    }
   ],
   "source": [
    "a3[:2, :2, :2]"
   ]
  },
  {
   "cell_type": "code",
   "execution_count": 50,
   "id": "58108a04-24f8-49ce-8716-7ea28a20c7de",
   "metadata": {},
   "outputs": [
    {
     "data": {
      "text/plain": [
       "np.int64(2)"
      ]
     },
     "execution_count": 50,
     "metadata": {},
     "output_type": "execute_result"
    }
   ],
   "source": [
    "a3[0][0][1]"
   ]
  },
  {
   "cell_type": "code",
   "execution_count": 51,
   "id": "40b1411e-c3a5-4d4b-85c8-9f2423db6593",
   "metadata": {},
   "outputs": [
    {
     "data": {
      "text/plain": [
       "array([1, 2])"
      ]
     },
     "execution_count": 51,
     "metadata": {},
     "output_type": "execute_result"
    }
   ],
   "source": [
    "a1[:2]"
   ]
  },
  {
   "cell_type": "code",
   "execution_count": 52,
   "id": "2ffe492e-a66a-45dd-b225-b8a6f37f8224",
   "metadata": {},
   "outputs": [
    {
     "data": {
      "text/plain": [
       "(2, 3, 3)"
      ]
     },
     "execution_count": 52,
     "metadata": {},
     "output_type": "execute_result"
    }
   ],
   "source": [
    "a3.shape"
   ]
  },
  {
   "cell_type": "code",
   "execution_count": 53,
   "id": "5b81da6f-21a8-4d89-903d-c257fa69ddbb",
   "metadata": {},
   "outputs": [
    {
     "data": {
      "text/plain": [
       "array([[[[6, 7, 7, 9, 3],\n",
       "         [0, 7, 7, 7, 0],\n",
       "         [5, 4, 3, 1, 3],\n",
       "         [1, 3, 4, 3, 1]],\n",
       "\n",
       "        [[9, 5, 9, 1, 2],\n",
       "         [3, 2, 2, 5, 7],\n",
       "         [3, 0, 9, 9, 3],\n",
       "         [4, 5, 3, 0, 4]],\n",
       "\n",
       "        [[8, 6, 7, 2, 7],\n",
       "         [3, 8, 6, 6, 5],\n",
       "         [6, 5, 7, 1, 5],\n",
       "         [4, 4, 9, 9, 0]]],\n",
       "\n",
       "\n",
       "       [[[6, 2, 6, 8, 2],\n",
       "         [4, 1, 6, 1, 5],\n",
       "         [1, 6, 9, 8, 6],\n",
       "         [5, 9, 7, 5, 4]],\n",
       "\n",
       "        [[9, 6, 8, 1, 5],\n",
       "         [5, 8, 3, 7, 7],\n",
       "         [9, 4, 7, 5, 9],\n",
       "         [6, 2, 0, 5, 3]],\n",
       "\n",
       "        [[0, 5, 7, 1, 8],\n",
       "         [4, 9, 0, 2, 0],\n",
       "         [7, 6, 2, 9, 9],\n",
       "         [5, 1, 0, 0, 9]]]])"
      ]
     },
     "execution_count": 53,
     "metadata": {},
     "output_type": "execute_result"
    }
   ],
   "source": [
    "# np.random.seed(seed=0)\n",
    "a4 = np.random.randint(10, size=(2,3,4,5))\n",
    "a4"
   ]
  },
  {
   "cell_type": "code",
   "execution_count": 54,
   "id": "6fc170e6-ef9a-4531-920f-502ba9d7901a",
   "metadata": {},
   "outputs": [
    {
     "data": {
      "text/plain": [
       "((2, 3, 4, 5), 4)"
      ]
     },
     "execution_count": 54,
     "metadata": {},
     "output_type": "execute_result"
    }
   ],
   "source": [
    "a4.shape, a4.ndim"
   ]
  },
  {
   "cell_type": "code",
   "execution_count": 55,
   "id": "596340d5-14cf-409c-bcd0-a1e8df4456ac",
   "metadata": {},
   "outputs": [
    {
     "data": {
      "text/plain": [
       "array([[[[6, 7, 7, 9],\n",
       "         [0, 7, 7, 7],\n",
       "         [5, 4, 3, 1],\n",
       "         [1, 3, 4, 3]],\n",
       "\n",
       "        [[9, 5, 9, 1],\n",
       "         [3, 2, 2, 5],\n",
       "         [3, 0, 9, 9],\n",
       "         [4, 5, 3, 0]],\n",
       "\n",
       "        [[8, 6, 7, 2],\n",
       "         [3, 8, 6, 6],\n",
       "         [6, 5, 7, 1],\n",
       "         [4, 4, 9, 9]]],\n",
       "\n",
       "\n",
       "       [[[6, 2, 6, 8],\n",
       "         [4, 1, 6, 1],\n",
       "         [1, 6, 9, 8],\n",
       "         [5, 9, 7, 5]],\n",
       "\n",
       "        [[9, 6, 8, 1],\n",
       "         [5, 8, 3, 7],\n",
       "         [9, 4, 7, 5],\n",
       "         [6, 2, 0, 5]],\n",
       "\n",
       "        [[0, 5, 7, 1],\n",
       "         [4, 9, 0, 2],\n",
       "         [7, 6, 2, 9],\n",
       "         [5, 1, 0, 0]]]])"
      ]
     },
     "execution_count": 55,
     "metadata": {},
     "output_type": "execute_result"
    }
   ],
   "source": [
    "# Get the first 4 numbers of the innermost arrays\n",
    "a4[:,:,:,:4]\n",
    "# a4[:,:,:,:2]"
   ]
  },
  {
   "cell_type": "code",
   "execution_count": 56,
   "id": "dc8b8ad8-b892-4875-abd6-7165ee8a05aa",
   "metadata": {},
   "outputs": [
    {
     "data": {
      "text/plain": [
       "array([1, 2, 3])"
      ]
     },
     "execution_count": 56,
     "metadata": {},
     "output_type": "execute_result"
    }
   ],
   "source": [
    "a1[:4]"
   ]
  },
  {
   "cell_type": "markdown",
   "id": "efecc4e1-36e4-422f-84e5-27b7b5dd72e8",
   "metadata": {},
   "source": [
    "## Manipulating & comparing arrays"
   ]
  },
  {
   "cell_type": "markdown",
   "id": "323d6c3f-c2d3-49be-aefb-3836ca433c1a",
   "metadata": {},
   "source": [
    "### Arithmetic"
   ]
  },
  {
   "cell_type": "code",
   "execution_count": 57,
   "id": "d17310db-941f-4c3a-83f9-0b16b000b5fc",
   "metadata": {},
   "outputs": [
    {
     "data": {
      "text/plain": [
       "array([1, 2, 3])"
      ]
     },
     "execution_count": 57,
     "metadata": {},
     "output_type": "execute_result"
    }
   ],
   "source": [
    "a1"
   ]
  },
  {
   "cell_type": "code",
   "execution_count": 58,
   "id": "cb364aab-1215-4ae0-8755-012160b307e0",
   "metadata": {},
   "outputs": [
    {
     "data": {
      "text/plain": [
       "array([1., 1., 1.])"
      ]
     },
     "execution_count": 58,
     "metadata": {},
     "output_type": "execute_result"
    }
   ],
   "source": [
    "ones = np.ones(3)\n",
    "ones"
   ]
  },
  {
   "cell_type": "code",
   "execution_count": 59,
   "id": "0b9f9bf6-ba5f-4241-9f0e-f563bdf4bf6c",
   "metadata": {},
   "outputs": [
    {
     "data": {
      "text/plain": [
       "array([2., 3., 4.])"
      ]
     },
     "execution_count": 59,
     "metadata": {},
     "output_type": "execute_result"
    }
   ],
   "source": [
    "a1 + ones"
   ]
  },
  {
   "cell_type": "code",
   "execution_count": 60,
   "id": "affe761c-1a8d-4a38-82f9-92fcd000988b",
   "metadata": {},
   "outputs": [
    {
     "data": {
      "text/plain": [
       "array([0., 1., 2.])"
      ]
     },
     "execution_count": 60,
     "metadata": {},
     "output_type": "execute_result"
    }
   ],
   "source": [
    "a1 - ones"
   ]
  },
  {
   "cell_type": "code",
   "execution_count": 61,
   "id": "ad1c5894-a0ae-4447-bb86-7552577af595",
   "metadata": {},
   "outputs": [
    {
     "data": {
      "text/plain": [
       "array([1., 2., 3.])"
      ]
     },
     "execution_count": 61,
     "metadata": {},
     "output_type": "execute_result"
    }
   ],
   "source": [
    "a1 * ones"
   ]
  },
  {
   "cell_type": "code",
   "execution_count": 62,
   "id": "cbba8797-632b-46f4-920d-27d88cbe982b",
   "metadata": {},
   "outputs": [
    {
     "data": {
      "text/plain": [
       "array([[1, 2, 3],\n",
       "       [4, 5, 6]])"
      ]
     },
     "execution_count": 62,
     "metadata": {},
     "output_type": "execute_result"
    }
   ],
   "source": [
    "a2"
   ]
  },
  {
   "cell_type": "code",
   "execution_count": 63,
   "id": "9b8781ea-822c-47e0-b1d2-be87f40fff22",
   "metadata": {},
   "outputs": [
    {
     "data": {
      "text/plain": [
       "array([[ 1,  4,  9],\n",
       "       [ 4, 10, 18]])"
      ]
     },
     "execution_count": 63,
     "metadata": {},
     "output_type": "execute_result"
    }
   ],
   "source": [
    "a1 * a2"
   ]
  },
  {
   "cell_type": "code",
   "execution_count": 64,
   "id": "629f690b-4f05-489b-b7d6-9eb993d46eba",
   "metadata": {},
   "outputs": [
    {
     "data": {
      "text/plain": [
       "array([1, 2, 3])"
      ]
     },
     "execution_count": 64,
     "metadata": {},
     "output_type": "execute_result"
    }
   ],
   "source": [
    "a1"
   ]
  },
  {
   "cell_type": "code",
   "execution_count": 65,
   "id": "35a9e598-cde1-4aef-8642-2e524b73a761",
   "metadata": {},
   "outputs": [
    {
     "data": {
      "text/plain": [
       "array([[[ 1,  2,  3],\n",
       "        [ 4,  5,  6],\n",
       "        [ 7,  8,  9]],\n",
       "\n",
       "       [[10, 11, 12],\n",
       "        [13, 14, 15],\n",
       "        [16, 17, 18]]])"
      ]
     },
     "execution_count": 65,
     "metadata": {},
     "output_type": "execute_result"
    }
   ],
   "source": [
    "a3"
   ]
  },
  {
   "cell_type": "code",
   "execution_count": 66,
   "id": "548d6b12-f9f7-428a-a581-85c6b2712289",
   "metadata": {},
   "outputs": [
    {
     "ename": "ValueError",
     "evalue": "operands could not be broadcast together with shapes (2,3) (2,3,3) ",
     "output_type": "error",
     "traceback": [
      "\u001b[31m---------------------------------------------------------------------------\u001b[39m",
      "\u001b[31mValueError\u001b[39m                                Traceback (most recent call last)",
      "\u001b[36mCell\u001b[39m\u001b[36m \u001b[39m\u001b[32mIn[66]\u001b[39m\u001b[32m, line 1\u001b[39m\n\u001b[32m----> \u001b[39m\u001b[32m1\u001b[39m a2 * a3\n",
      "\u001b[31mValueError\u001b[39m: operands could not be broadcast together with shapes (2,3) (2,3,3) "
     ]
    }
   ],
   "source": [
    "a2 * a3"
   ]
  },
  {
   "cell_type": "code",
   "execution_count": null,
   "id": "e1694b1a-86ef-463b-8278-d9ced772e41d",
   "metadata": {},
   "outputs": [],
   "source": [
    "a1 /ones"
   ]
  },
  {
   "cell_type": "code",
   "execution_count": null,
   "id": "ff815595-9f70-424c-8dfe-42685d320b52",
   "metadata": {},
   "outputs": [],
   "source": [
    "a2 /a1"
   ]
  },
  {
   "cell_type": "code",
   "execution_count": null,
   "id": "46dba123-b8c9-485a-86b2-6e5e7fe61da4",
   "metadata": {},
   "outputs": [],
   "source": [
    "# Floor division remove the decimals (rounds down)\n",
    "a2 // a1"
   ]
  },
  {
   "cell_type": "code",
   "execution_count": null,
   "id": "5a02a685-e308-43d6-b3a9-ba1a068d33c5",
   "metadata": {},
   "outputs": [],
   "source": [
    "a2 ** 2"
   ]
  },
  {
   "cell_type": "code",
   "execution_count": null,
   "id": "0ed8be47-73fc-477f-b83a-8d9c5880b18f",
   "metadata": {},
   "outputs": [],
   "source": [
    "np.square(a2)"
   ]
  },
  {
   "cell_type": "code",
   "execution_count": null,
   "id": "18310441-c1bb-481f-b4e4-d8d4f665be3a",
   "metadata": {},
   "outputs": [],
   "source": [
    "np.add(a1, ones)"
   ]
  },
  {
   "cell_type": "code",
   "execution_count": null,
   "id": "7579f65b-ee1b-403c-841d-d99cb4787971",
   "metadata": {},
   "outputs": [],
   "source": [
    "a1 + ones"
   ]
  },
  {
   "cell_type": "code",
   "execution_count": null,
   "id": "697d949b-4de3-44a4-af4f-52e104568de2",
   "metadata": {},
   "outputs": [],
   "source": [
    "11 % 2"
   ]
  },
  {
   "cell_type": "code",
   "execution_count": null,
   "id": "98a95b14-ec15-4ab4-8cc6-7307a7fac7dc",
   "metadata": {},
   "outputs": [],
   "source": [
    "a1 % 2"
   ]
  },
  {
   "cell_type": "code",
   "execution_count": null,
   "id": "0f4fc00c-69ce-40e6-843c-c7bd12ce9c57",
   "metadata": {},
   "outputs": [],
   "source": [
    "a1"
   ]
  },
  {
   "cell_type": "code",
   "execution_count": null,
   "id": "9377e0b9-1d9a-4d5b-9783-1e2bba525c7a",
   "metadata": {},
   "outputs": [],
   "source": [
    "a1 /2"
   ]
  },
  {
   "cell_type": "code",
   "execution_count": null,
   "id": "b63e2562-1ddc-4905-a69e-038525378d76",
   "metadata": {},
   "outputs": [],
   "source": [
    "a2 % 2"
   ]
  },
  {
   "cell_type": "code",
   "execution_count": null,
   "id": "c101b502-9924-41b3-9448-c85ca31cbbeb",
   "metadata": {},
   "outputs": [],
   "source": [
    "np.exp(a1)"
   ]
  },
  {
   "cell_type": "code",
   "execution_count": null,
   "id": "ad837e8c-425c-4bd1-9b66-bdbdafaf00ce",
   "metadata": {},
   "outputs": [],
   "source": [
    "np.log(a1)"
   ]
  },
  {
   "cell_type": "code",
   "execution_count": null,
   "id": "25d8147e-c1e7-4954-8a92-cd5d19a6925e",
   "metadata": {},
   "outputs": [],
   "source": [
    "a1"
   ]
  },
  {
   "cell_type": "code",
   "execution_count": null,
   "id": "7ee1a2ac-b8f7-400e-b55b-66ae776bbade",
   "metadata": {},
   "outputs": [],
   "source": [
    "np.exp(1)"
   ]
  },
  {
   "cell_type": "code",
   "execution_count": null,
   "id": "099cce1f-7ecd-4863-9d8e-422867a7a2a3",
   "metadata": {},
   "outputs": [],
   "source": [
    "np.log(10)"
   ]
  },
  {
   "cell_type": "markdown",
   "id": "71d3730a-d9a9-4918-921f-c8ba0b69259b",
   "metadata": {},
   "source": [
    "### Aggregation\n",
    "Aggregation = performing the same operation on a number of things"
   ]
  },
  {
   "cell_type": "code",
   "execution_count": null,
   "id": "c2f3778f-4214-4ce1-9a3a-ea2e9b1cf6cb",
   "metadata": {},
   "outputs": [],
   "source": [
    "listy_list = [1,2,3]\n",
    "type(listy_list)"
   ]
  },
  {
   "cell_type": "code",
   "execution_count": null,
   "id": "92e7c870-bc44-4368-a784-459daf1070e2",
   "metadata": {},
   "outputs": [],
   "source": [
    "sum(listy_list)"
   ]
  },
  {
   "cell_type": "code",
   "execution_count": null,
   "id": "c23a4a4a-b06b-44cb-b371-3e12a5fee8ef",
   "metadata": {},
   "outputs": [],
   "source": [
    "a1"
   ]
  },
  {
   "cell_type": "code",
   "execution_count": null,
   "id": "61083027-cbd4-443c-9a70-bc28534c832c",
   "metadata": {},
   "outputs": [],
   "source": [
    "type(a1)"
   ]
  },
  {
   "cell_type": "code",
   "execution_count": null,
   "id": "379c52fd-c4a9-42f5-b701-380e67073ed0",
   "metadata": {},
   "outputs": [],
   "source": [
    "sum(a1)"
   ]
  },
  {
   "cell_type": "code",
   "execution_count": null,
   "id": "700a48cd-066b-4f50-acfb-5e6e58d9288d",
   "metadata": {},
   "outputs": [],
   "source": [
    "np.sum(a1)"
   ]
  },
  {
   "cell_type": "markdown",
   "id": "0a65fa88-4a2c-4984-be0c-c5da1fa539e5",
   "metadata": {},
   "source": [
    "## Use Python's methods (`sum()`) on Python datatypes and use Numpy's methods on Numpy arrays(`np.sum()`)."
   ]
  },
  {
   "cell_type": "code",
   "execution_count": null,
   "id": "bd3263df-8e3e-46f9-859c-015f00df595c",
   "metadata": {},
   "outputs": [],
   "source": [
    "## Create a massive NumPy array\n",
    "massive_array = np.random.random(100000)\n",
    "massive_array.size"
   ]
  },
  {
   "cell_type": "code",
   "execution_count": null,
   "id": "0a46566b-0c5d-4582-bc84-6603f2059b80",
   "metadata": {},
   "outputs": [],
   "source": [
    "massive_array[:10]"
   ]
  },
  {
   "cell_type": "code",
   "execution_count": null,
   "id": "f10fed54-d4d4-4207-b497-4101b158a308",
   "metadata": {},
   "outputs": [],
   "source": [
    "%timeit sum(massive_array) # Python's sum()\n",
    "%timeit np.sum(massive_array) # NumPy sum()"
   ]
  },
  {
   "cell_type": "code",
   "execution_count": null,
   "id": "63697c0d-0052-4f55-accc-dac195ee8fda",
   "metadata": {},
   "outputs": [],
   "source": [
    "17900 / 34"
   ]
  },
  {
   "cell_type": "code",
   "execution_count": null,
   "id": "2233c9e0-a409-4cc1-a5a9-de4a0e80b64a",
   "metadata": {},
   "outputs": [],
   "source": [
    "a2"
   ]
  },
  {
   "cell_type": "code",
   "execution_count": null,
   "id": "7c1e3fae-5e6e-4972-8b53-45b962de42db",
   "metadata": {},
   "outputs": [],
   "source": [
    "np.mean(a2)"
   ]
  },
  {
   "cell_type": "code",
   "execution_count": null,
   "id": "20b6c4b1-c76b-44c3-8495-3e6793a2a193",
   "metadata": {},
   "outputs": [],
   "source": [
    "np.min(a2)"
   ]
  },
  {
   "cell_type": "code",
   "execution_count": null,
   "id": "a9cfeac5-1dd3-40c6-8be5-4688fbb6c3bb",
   "metadata": {},
   "outputs": [],
   "source": [
    "np.max(a2)"
   ]
  },
  {
   "cell_type": "code",
   "execution_count": null,
   "id": "acc9fd7c-2e9e-4dee-b5b5-54b9d22bfa1f",
   "metadata": {},
   "outputs": [],
   "source": [
    "np.std(a2)"
   ]
  },
  {
   "cell_type": "code",
   "execution_count": null,
   "id": "8c762e2f-300f-4774-b5cd-18a841a6e2b2",
   "metadata": {},
   "outputs": [],
   "source": [
    "np.var(a2)"
   ]
  },
  {
   "cell_type": "code",
   "execution_count": null,
   "id": "12b49c58-b422-4dda-ac3b-7cd4bd1999cf",
   "metadata": {},
   "outputs": [],
   "source": [
    "np.sqrt(np.var(a2))"
   ]
  },
  {
   "cell_type": "code",
   "execution_count": null,
   "id": "90cecadf-232a-4261-a566-cd6cec0b33c2",
   "metadata": {},
   "outputs": [],
   "source": [
    "high_var_array = np.array([1, 100, 200, 300, 4000, 5000])\n",
    "lower_var_array = np.array([2,4,6,8,10])"
   ]
  },
  {
   "cell_type": "code",
   "execution_count": null,
   "id": "a7d6128c-8e33-4b95-981e-80c51404b236",
   "metadata": {},
   "outputs": [],
   "source": [
    "np.var(high_var_array), np.var(lower_var_array)"
   ]
  },
  {
   "cell_type": "code",
   "execution_count": null,
   "id": "0d59520b-13a6-4daf-936f-fc2c9691d52f",
   "metadata": {},
   "outputs": [],
   "source": [
    "np.std(high_var_array), np.std(lower_var_array)"
   ]
  },
  {
   "cell_type": "code",
   "execution_count": null,
   "id": "022766bf-df21-4725-85fc-0c931c37c7b7",
   "metadata": {},
   "outputs": [],
   "source": [
    "np.mean(high_var_array), np.mean(lower_var_array)"
   ]
  },
  {
   "cell_type": "code",
   "execution_count": null,
   "id": "bfe3a1d1-2305-44d5-8d69-f2014fa80e18",
   "metadata": {},
   "outputs": [],
   "source": [
    "%matplotlib inline\n",
    "import matplotlib.pyplot as plt\n",
    "plt.hist(high_var_array)\n",
    "plt.show()"
   ]
  },
  {
   "cell_type": "code",
   "execution_count": null,
   "id": "997f792b-f0f9-410b-8fb4-11023e0587c7",
   "metadata": {},
   "outputs": [],
   "source": [
    "plt.hist(lower_var_array)\n",
    "plt.show()"
   ]
  },
  {
   "cell_type": "markdown",
   "id": "8242cf59-5990-4ef6-b3bc-cbe635a9cf8e",
   "metadata": {},
   "source": [
    "### Reshaping & transposing"
   ]
  },
  {
   "cell_type": "code",
   "execution_count": null,
   "id": "ea10cd7e-6058-4b6f-8d5b-f791db50daee",
   "metadata": {},
   "outputs": [],
   "source": []
  },
  {
   "cell_type": "code",
   "execution_count": null,
   "id": "31d98fcc-66a5-40a1-987a-8d1f6dcaf58c",
   "metadata": {},
   "outputs": [],
   "source": [
    "a2"
   ]
  },
  {
   "cell_type": "code",
   "execution_count": null,
   "id": "da2dffa9-5228-4b13-80e6-42363ff44b9d",
   "metadata": {},
   "outputs": [],
   "source": [
    "a2.shape"
   ]
  },
  {
   "cell_type": "code",
   "execution_count": null,
   "id": "e9490db9-1dcf-403b-8a7e-d97dd5f843cf",
   "metadata": {},
   "outputs": [],
   "source": [
    "a3"
   ]
  },
  {
   "cell_type": "code",
   "execution_count": null,
   "id": "45ca2a42-6321-462b-9cd0-e1085399fe60",
   "metadata": {},
   "outputs": [],
   "source": [
    "a3.shape"
   ]
  },
  {
   "cell_type": "code",
   "execution_count": null,
   "id": "121e8b4a-5b88-41bd-91f4-bd57d85d9586",
   "metadata": {},
   "outputs": [],
   "source": [
    "a2 * a3"
   ]
  },
  {
   "cell_type": "code",
   "execution_count": null,
   "id": "f6883276-ce25-4808-8deb-3341acd21c6b",
   "metadata": {},
   "outputs": [],
   "source": [
    "a2"
   ]
  },
  {
   "cell_type": "code",
   "execution_count": null,
   "id": "58a574bc-db29-4da3-83d9-5a42f9ad3047",
   "metadata": {},
   "outputs": [],
   "source": [
    "a2.shape"
   ]
  },
  {
   "cell_type": "code",
   "execution_count": null,
   "id": "752a27ce-6859-438f-9133-026843e1c0fa",
   "metadata": {},
   "outputs": [],
   "source": [
    "a2.reshape(2, 3, 1).shape"
   ]
  },
  {
   "cell_type": "code",
   "execution_count": null,
   "id": "dfee20ec-9677-4225-b78c-eef5ebdc4a97",
   "metadata": {},
   "outputs": [],
   "source": [
    "a2.reshape(2, 3, 1)"
   ]
  },
  {
   "cell_type": "code",
   "execution_count": null,
   "id": "d58cc0ca-6941-4916-ab8b-9af86f01ce78",
   "metadata": {},
   "outputs": [],
   "source": [
    "a3.shape"
   ]
  },
  {
   "cell_type": "code",
   "execution_count": null,
   "id": "0124a045-7f55-4b7f-9a51-1509cb187fbc",
   "metadata": {},
   "outputs": [],
   "source": [
    "a2_reshape = a2.reshape(2,3,1)\n",
    "a2_reshape"
   ]
  },
  {
   "cell_type": "code",
   "execution_count": null,
   "id": "b3ac7852-1552-4608-8118-023bad32fe23",
   "metadata": {},
   "outputs": [],
   "source": [
    "a2_reshape * a3"
   ]
  },
  {
   "cell_type": "code",
   "execution_count": null,
   "id": "1c77e3f2-a505-4735-9129-fdbf88e0fac6",
   "metadata": {},
   "outputs": [],
   "source": [
    "a2"
   ]
  },
  {
   "cell_type": "code",
   "execution_count": null,
   "id": "63c63351-683b-4286-91a4-2f7f7ee3d59a",
   "metadata": {},
   "outputs": [],
   "source": [
    "# Transpose\n",
    "a2.T"
   ]
  },
  {
   "cell_type": "code",
   "execution_count": null,
   "id": "5524b403-ed02-4919-b5ae-71b3d88327ac",
   "metadata": {},
   "outputs": [],
   "source": [
    "a2.T.shape\n"
   ]
  },
  {
   "cell_type": "code",
   "execution_count": null,
   "id": "02d3461c-6065-4896-a07b-4819d59912bb",
   "metadata": {},
   "outputs": [],
   "source": [
    "a2.shape"
   ]
  },
  {
   "cell_type": "code",
   "execution_count": null,
   "id": "af820d39-df90-4881-ab02-26bc26818c05",
   "metadata": {},
   "outputs": [],
   "source": [
    "a3"
   ]
  },
  {
   "cell_type": "code",
   "execution_count": null,
   "id": "e185677b-eef0-4f1c-a061-26abee8b6c0b",
   "metadata": {},
   "outputs": [],
   "source": [
    "a3.shape"
   ]
  },
  {
   "cell_type": "code",
   "execution_count": null,
   "id": "7584c0e6-7151-4441-80e9-bd9e739ffc1d",
   "metadata": {},
   "outputs": [],
   "source": [
    "a3.T"
   ]
  },
  {
   "cell_type": "code",
   "execution_count": null,
   "id": "6374dae0-6d5e-47db-8858-ecc1642d1c69",
   "metadata": {},
   "outputs": [],
   "source": [
    "a3.T.shape"
   ]
  },
  {
   "cell_type": "markdown",
   "id": "b4f60b4a-ef8c-485f-9cd9-db0a897fadd6",
   "metadata": {},
   "source": [
    "## Dot product"
   ]
  },
  {
   "cell_type": "code",
   "execution_count": null,
   "id": "ad14b2bf-1276-408d-9a6b-d2f69ea3a87b",
   "metadata": {},
   "outputs": [],
   "source": [
    "np.random.seed(0)\n",
    "\n",
    "mat1 = np.random.randint(10, size=(5,3))\n",
    "mat2 = np.random.randint(10, size=(5,3))\n",
    "\n",
    "\n",
    "mat1"
   ]
  },
  {
   "cell_type": "code",
   "execution_count": null,
   "id": "bf2fef50-7654-4405-9f7d-fdb7ab0d4fc3",
   "metadata": {},
   "outputs": [],
   "source": [
    "mat2"
   ]
  },
  {
   "cell_type": "code",
   "execution_count": null,
   "id": "a9853d51-9383-42b1-bcd0-671703ae2604",
   "metadata": {},
   "outputs": [],
   "source": [
    "mat1.shape, mat2.shape"
   ]
  },
  {
   "cell_type": "code",
   "execution_count": null,
   "id": "72262158-6c1f-4dc4-8571-8d55447bb24a",
   "metadata": {},
   "outputs": [],
   "source": [
    "# Element-wise multiplication (Hadamard product)\n",
    "mat1 * mat2"
   ]
  },
  {
   "cell_type": "code",
   "execution_count": null,
   "id": "c4042eba-80d7-40bf-a8dc-482f872c3ba2",
   "metadata": {},
   "outputs": [],
   "source": [
    "np.dot(mat1,mat2)"
   ]
  },
  {
   "cell_type": "code",
   "execution_count": null,
   "id": "96a488f6-f126-4791-af54-3729500da623",
   "metadata": {},
   "outputs": [],
   "source": [
    "# Transpose mat1\n",
    "mat1.T"
   ]
  },
  {
   "cell_type": "code",
   "execution_count": null,
   "id": "69590b01-470d-47ec-9443-6a0c87b4b554",
   "metadata": {},
   "outputs": [],
   "source": [
    "mat1"
   ]
  },
  {
   "cell_type": "code",
   "execution_count": null,
   "id": "4d7249e8-d5e3-483b-9b9f-9a20ab329010",
   "metadata": {},
   "outputs": [],
   "source": [
    "mat1.shape"
   ]
  },
  {
   "cell_type": "code",
   "execution_count": null,
   "id": "9f176d54-7174-410e-8ab0-3785dfc1efd7",
   "metadata": {},
   "outputs": [],
   "source": [
    "mat1.T.shape"
   ]
  },
  {
   "cell_type": "code",
   "execution_count": null,
   "id": "97cc976a-4afc-408c-9896-1a237410a0f1",
   "metadata": {},
   "outputs": [],
   "source": [
    "mat2.shape, mat1.T.shape"
   ]
  },
  {
   "cell_type": "code",
   "execution_count": null,
   "id": "0e5247cc-1b14-493a-8c12-08d3dd6abe50",
   "metadata": {},
   "outputs": [],
   "source": [
    "mat1.shape, mat2.T.shape"
   ]
  },
  {
   "cell_type": "code",
   "execution_count": null,
   "id": "22bd752d-02b6-4f80-aa2b-2d64ed0360b5",
   "metadata": {},
   "outputs": [],
   "source": [
    "mat3 = np.dot(mat2, mat1.T)\n",
    "mat3"
   ]
  },
  {
   "cell_type": "code",
   "execution_count": null,
   "id": "90fc9c8b-3a93-48cc-a485-61076dd598c9",
   "metadata": {},
   "outputs": [],
   "source": [
    "mat3 = np.dot(mat1, mat2.T)\n",
    "mat3"
   ]
  },
  {
   "cell_type": "code",
   "execution_count": null,
   "id": "7ac79b92-5637-44af-b6ca-045b21867e53",
   "metadata": {},
   "outputs": [],
   "source": [
    "mat3.shape"
   ]
  },
  {
   "cell_type": "markdown",
   "id": "5637080c-7a64-4305-ac5b-cfc2a972b224",
   "metadata": {},
   "source": [
    "## Dot product (nut butter sales)"
   ]
  },
  {
   "cell_type": "code",
   "execution_count": null,
   "id": "ef9ae4c8-e128-499c-a43d-ff91c00f609f",
   "metadata": {},
   "outputs": [],
   "source": [
    "np.random.seed(0)\n",
    "# Number of jars sold\n",
    "sales_amounts = np.random.randint(20, size=(5,3))\n",
    "sales_amounts"
   ]
  },
  {
   "cell_type": "code",
   "execution_count": null,
   "id": "60b4adf8-6958-4cf3-aa52-8845362dcf09",
   "metadata": {},
   "outputs": [],
   "source": [
    "# Create weekly_sales Dataframe\n",
    "weekly_sales = pd.DataFrame(sales_amounts, \n",
    "                            index=[\"Mon\",\"Tue\",\"Wed\",\"Thurs\",\"Fri\"],\n",
    "                            columns=[\"Almond butter\",\"Peanut butter\", \"Cashew butter\"]\n",
    "                           )\n",
    "weekly_sales"
   ]
  },
  {
   "cell_type": "code",
   "execution_count": null,
   "id": "38166910-6a83-4cac-9fa4-dd075b910dcf",
   "metadata": {},
   "outputs": [],
   "source": [
    "# Create prices array\n",
    "prices = np.array([12,8,12])\n",
    "prices"
   ]
  },
  {
   "cell_type": "code",
   "execution_count": null,
   "id": "5d891773-7ff4-49f4-87a5-7a2e10479f4d",
   "metadata": {},
   "outputs": [],
   "source": [
    "prices.shape"
   ]
  },
  {
   "cell_type": "code",
   "execution_count": null,
   "id": "d8f734b7-9412-475e-b3ba-f77750e23dc7",
   "metadata": {},
   "outputs": [],
   "source": [
    "# Create butter_prices DataFrame\n",
    "butter_prices = pd.DataFrame(prices.reshape(1,3),\n",
    "                            index=[\"Price\"],\n",
    "                            columns=[\"Almond butter\",\"Peanut butter\", \"Cashew butter\"] )\n",
    "butter_prices"
   ]
  },
  {
   "cell_type": "code",
   "execution_count": null,
   "id": "850f96f8-c462-4686-a1eb-f28a831f832e",
   "metadata": {},
   "outputs": [],
   "source": [
    "sales_amounts.shape"
   ]
  },
  {
   "cell_type": "code",
   "execution_count": null,
   "id": "a1c8e5ea-863f-460d-aea6-1bf42b58b6be",
   "metadata": {},
   "outputs": [],
   "source": [
    "prices.shape"
   ]
  },
  {
   "cell_type": "code",
   "execution_count": null,
   "id": "2a21ae15-90d9-4419-9bf6-ade2ca373f93",
   "metadata": {},
   "outputs": [],
   "source": [
    "total_sales = prices.dot()"
   ]
  },
  {
   "cell_type": "code",
   "execution_count": null,
   "id": "78443924-edb5-471d-92eb-af6a9f4c005f",
   "metadata": {},
   "outputs": [],
   "source": [
    "# Shape aren't aligned, let's transpose\n",
    "total_sales = prices.dot(sales_amounts.T)\n",
    "total_sales"
   ]
  },
  {
   "cell_type": "code",
   "execution_count": null,
   "id": "2514b1aa-2411-4b1c-94ed-d9d80f64e41b",
   "metadata": {},
   "outputs": [],
   "source": [
    "sales_amounts"
   ]
  },
  {
   "cell_type": "code",
   "execution_count": null,
   "id": "e15a5f4a-2d77-45bd-88e5-087e57088c77",
   "metadata": {},
   "outputs": [],
   "source": [
    "weekly_sales.T, weekly_sales.T.shape, butter_prices.shape"
   ]
  },
  {
   "cell_type": "code",
   "execution_count": null,
   "id": "00213753-74fd-442d-91ac-0d3e44a76906",
   "metadata": {},
   "outputs": [],
   "source": [
    "# Create daily_sales\n",
    "butter_prices.shape, weekly_sales.T.shape"
   ]
  },
  {
   "cell_type": "code",
   "execution_count": null,
   "id": "ec42b340-be5d-4a5a-8aa1-ad16458d914b",
   "metadata": {},
   "outputs": [],
   "source": [
    "butter_prices, weekly_sales.T "
   ]
  },
  {
   "cell_type": "code",
   "execution_count": null,
   "id": "76e4bbdd-38f8-48e8-8f27-54fda1dca70e",
   "metadata": {},
   "outputs": [],
   "source": [
    "daily_sales = butter_prices.dot(weekly_sales.T)\n",
    "# daily_sales = weekly_sales.dot(butter_prices.T)\n",
    "daily_sales, type(daily_sales)"
   ]
  },
  {
   "cell_type": "code",
   "execution_count": null,
   "id": "a05fb925-5236-403d-8e92-3c2fe35fd85f",
   "metadata": {},
   "outputs": [],
   "source": [
    "weekly_sales"
   ]
  },
  {
   "cell_type": "code",
   "execution_count": null,
   "id": "b6c943cc-849b-4118-bd5b-b2173a77ee4d",
   "metadata": {},
   "outputs": [],
   "source": [
    "butter_prices"
   ]
  },
  {
   "cell_type": "code",
   "execution_count": null,
   "id": "024e2fd0-0522-492a-837c-d377c5dc25b3",
   "metadata": {},
   "outputs": [],
   "source": [
    "weekly_sales[\"Total ($)\"] = daily_sales.T\n",
    "weekly_sales"
   ]
  },
  {
   "cell_type": "code",
   "execution_count": null,
   "id": "440e3b13-cabc-40bb-85b6-e3766f4934d7",
   "metadata": {},
   "outputs": [],
   "source": [
    "daily_sales.T.shape, weekly_sales.shape"
   ]
  },
  {
   "cell_type": "code",
   "execution_count": null,
   "id": "19769dd2-1c15-422f-911f-93e2ec0ea344",
   "metadata": {},
   "outputs": [],
   "source": [
    "weekly_sales"
   ]
  },
  {
   "cell_type": "markdown",
   "id": "7fb75125-ead9-487a-90a7-4fee20ed2c80",
   "metadata": {},
   "source": [
    "### Comparison Operators"
   ]
  },
  {
   "cell_type": "code",
   "execution_count": null,
   "id": "5f617a41-dd6e-4ac5-b227-2c7fb109b04d",
   "metadata": {},
   "outputs": [],
   "source": [
    "a1.shape"
   ]
  },
  {
   "cell_type": "code",
   "execution_count": null,
   "id": "a0ad0965-f901-4440-bca9-66b9e437f5c1",
   "metadata": {},
   "outputs": [],
   "source": [
    "a3.shape"
   ]
  },
  {
   "cell_type": "markdown",
   "id": "af29520e-6a9f-4e19-aa9d-dc6ee1ea8519",
   "metadata": {},
   "source": [
    "##  5. Sorting arrays"
   ]
  },
  {
   "cell_type": "code",
   "execution_count": null,
   "id": "f5abc625-a9fd-4078-8209-b645f1b960ab",
   "metadata": {},
   "outputs": [],
   "source": [
    "random_array"
   ]
  },
  {
   "cell_type": "code",
   "execution_count": null,
   "id": "45c0ba4c-0ec8-4f20-b631-efb2bd20ab1d",
   "metadata": {},
   "outputs": [],
   "source": [
    "random_array = np.random.randint(10, size=(3,5 ))\n",
    "random_array"
   ]
  },
  {
   "cell_type": "code",
   "execution_count": null,
   "id": "fa911106-4025-46c9-adde-109b874e2f33",
   "metadata": {},
   "outputs": [],
   "source": [
    "random_array.shape"
   ]
  },
  {
   "cell_type": "code",
   "execution_count": null,
   "id": "9bd53617-97cb-4550-a24d-d208216df7a4",
   "metadata": {},
   "outputs": [],
   "source": [
    "np.sort(random_array)"
   ]
  },
  {
   "cell_type": "code",
   "execution_count": null,
   "id": "91b90837-c445-49e8-811f-0d25bdfe6cbe",
   "metadata": {},
   "outputs": [],
   "source": [
    "random_array"
   ]
  },
  {
   "cell_type": "code",
   "execution_count": null,
   "id": "be89694c-e4ae-4b3a-acdf-9401f11e403b",
   "metadata": {},
   "outputs": [],
   "source": [
    "np.argsort(random_array)"
   ]
  },
  {
   "cell_type": "code",
   "execution_count": null,
   "id": "1d626211-895d-491b-a49e-098d043b6b7e",
   "metadata": {},
   "outputs": [],
   "source": [
    "a1"
   ]
  },
  {
   "cell_type": "code",
   "execution_count": null,
   "id": "7970235c-3b60-4dec-b4b6-8353e57f695c",
   "metadata": {},
   "outputs": [],
   "source": [
    "np.argsort(a1)"
   ]
  },
  {
   "cell_type": "code",
   "execution_count": null,
   "id": "81a53607-1e9e-4f52-b256-3cfbd82465c7",
   "metadata": {},
   "outputs": [],
   "source": [
    "random_array[4]"
   ]
  },
  {
   "cell_type": "code",
   "execution_count": null,
   "id": "c4de1ec1-35df-4863-a939-d5cd8c5559a6",
   "metadata": {},
   "outputs": [],
   "source": [
    "np.argmin(a1)"
   ]
  },
  {
   "cell_type": "code",
   "execution_count": null,
   "id": "a65492c0-5e1c-4dd5-97ee-f3d05dd5d975",
   "metadata": {},
   "outputs": [],
   "source": [
    "np.argmax(a1)"
   ]
  },
  {
   "cell_type": "code",
   "execution_count": null,
   "id": "a8d2c052-7911-4d4b-8bcc-3a9e0192c406",
   "metadata": {},
   "outputs": [],
   "source": [
    "np.argmax(random_array)"
   ]
  },
  {
   "cell_type": "code",
   "execution_count": null,
   "id": "41aecbb8-6436-4469-a89c-5d1a413e2ca9",
   "metadata": {},
   "outputs": [],
   "source": [
    "random_array"
   ]
  },
  {
   "cell_type": "code",
   "execution_count": null,
   "id": "0b586ea8-9a87-478e-ad0a-0df99fec83ba",
   "metadata": {},
   "outputs": [],
   "source": [
    "np.argmax(random_array, axis=0)"
   ]
  },
  {
   "cell_type": "code",
   "execution_count": null,
   "id": "06354e26-b59c-4379-9881-69e9e1a8deaa",
   "metadata": {},
   "outputs": [],
   "source": [
    "np.argmax(random_array, axis=1)"
   ]
  },
  {
   "cell_type": "code",
   "execution_count": null,
   "id": "f33f21a0-7bc0-43a8-97bc-495b555bb663",
   "metadata": {},
   "outputs": [],
   "source": [
    "random_array.shape"
   ]
  },
  {
   "cell_type": "code",
   "execution_count": null,
   "id": "45c11e84-5832-459d-9d55-80e65182425f",
   "metadata": {},
   "outputs": [],
   "source": [
    "a1.shape"
   ]
  },
  {
   "cell_type": "markdown",
   "id": "a3a9da31-479c-4aa4-89d8-e857fcd1c929",
   "metadata": {},
   "source": [
    "## Practical Example - NumPy in action!!!!"
   ]
  },
  {
   "cell_type": "markdown",
   "id": "0328ffc1-dd2e-40d3-a122-7c2a14d62675",
   "metadata": {},
   "source": [
    "<img src=\"images/panda.png\">"
   ]
  },
  {
   "cell_type": "code",
   "execution_count": null,
   "id": "c0d288d1-4e5a-4c53-8dda-ec3d39020fd6",
   "metadata": {},
   "outputs": [],
   "source": [
    "# Turn an image into a Numy array\n",
    "from matplotlib.image import imread\n",
    "\n",
    "panda = imread(\"images/panda.png\")\n",
    "print(type(panda))"
   ]
  },
  {
   "cell_type": "code",
   "execution_count": null,
   "id": "eff85dcd-8ac5-470c-af54-64547aeb4930",
   "metadata": {},
   "outputs": [],
   "source": [
    "panda"
   ]
  },
  {
   "cell_type": "code",
   "execution_count": null,
   "id": "a06c14cd-e3f4-4a9a-be01-14133544ab8a",
   "metadata": {},
   "outputs": [],
   "source": [
    "panda.size, panda.shape, panda.ndim"
   ]
  },
  {
   "cell_type": "code",
   "execution_count": null,
   "id": "35e803d3-5d68-44c7-a94d-a6a05ced10ee",
   "metadata": {},
   "outputs": [],
   "source": [
    "a3"
   ]
  },
  {
   "cell_type": "code",
   "execution_count": null,
   "id": "d74790b3-b7fe-47c1-abb3-51d60327dbc2",
   "metadata": {},
   "outputs": [],
   "source": [
    "a3.shape"
   ]
  },
  {
   "cell_type": "code",
   "execution_count": null,
   "id": "f458afe9-afe4-45d3-bd3f-7d8d99f4fcca",
   "metadata": {},
   "outputs": [],
   "source": [
    "a2.shape"
   ]
  },
  {
   "cell_type": "code",
   "execution_count": null,
   "id": "700f7546-c0e1-4a11-8df6-55b415e60858",
   "metadata": {},
   "outputs": [],
   "source": [
    "custom_reshape = a3.reshape(2,3,3,1)\n",
    "custom_reshape"
   ]
  },
  {
   "cell_type": "code",
   "execution_count": null,
   "id": "ffe4d9ef-ba92-4710-9169-1624067845bc",
   "metadata": {},
   "outputs": [],
   "source": [
    "a3"
   ]
  },
  {
   "cell_type": "code",
   "execution_count": null,
   "id": "12983db9-4c00-42ca-95c8-e1511bb6ce8d",
   "metadata": {},
   "outputs": [],
   "source": [
    "panda[:100]"
   ]
  },
  {
   "cell_type": "markdown",
   "id": "a5ddf975-0d63-4348-8695-d0893e535bcf",
   "metadata": {},
   "source": [
    "<img src=\"images/car-photo.png\" />"
   ]
  },
  {
   "cell_type": "code",
   "execution_count": null,
   "id": "f1e97349-8127-4b39-882b-a8b8351fa052",
   "metadata": {},
   "outputs": [],
   "source": [
    "car = imread(\"images/car-photo.png\")\n",
    "type(car)"
   ]
  },
  {
   "cell_type": "code",
   "execution_count": null,
   "id": "bb8d5c8d-5010-4856-a60f-01fcbf25ff90",
   "metadata": {},
   "outputs": [],
   "source": [
    "car[:1]"
   ]
  },
  {
   "cell_type": "markdown",
   "id": "79ee1b19-9a0a-4ae0-832c-11a617594c3e",
   "metadata": {},
   "source": [
    "<img src=\"images/dog-photo.png\"/>"
   ]
  },
  {
   "cell_type": "code",
   "execution_count": null,
   "id": "2ac1fb94-7f7c-4fb1-b804-bf97a0e7e663",
   "metadata": {},
   "outputs": [],
   "source": [
    "dog = imread(\"images/dog-photo.png\")\n",
    "type(dog)"
   ]
  },
  {
   "cell_type": "code",
   "execution_count": null,
   "id": "15d54e66-8f8d-4ff5-95e3-b9f97f8149cb",
   "metadata": {},
   "outputs": [],
   "source": [
    "dog[:1]"
   ]
  },
  {
   "cell_type": "code",
   "execution_count": null,
   "id": "4085e216-661d-4809-ae5c-669125f472be",
   "metadata": {},
   "outputs": [],
   "source": []
  }
 ],
 "metadata": {
  "kernelspec": {
   "display_name": "Python 3 (ipykernel)",
   "language": "python",
   "name": "python3"
  },
  "language_info": {
   "codemirror_mode": {
    "name": "ipython",
    "version": 3
   },
   "file_extension": ".py",
   "mimetype": "text/x-python",
   "name": "python",
   "nbconvert_exporter": "python",
   "pygments_lexer": "ipython3",
   "version": "3.13.5"
  }
 },
 "nbformat": 4,
 "nbformat_minor": 5
}
